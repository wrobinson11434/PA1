{
 "cells": [
  {
   "cell_type": "code",
   "execution_count": 15,
   "id": "9a8d40eb",
   "metadata": {},
   "outputs": [
    {
     "name": "stdout",
     "output_type": "stream",
     "text": [
      "Enter a floating number. 84.3\n"
     ]
    }
   ],
   "source": [
    "print('Enter a floating number.', 84.3)"
   ]
  },
  {
   "cell_type": "code",
   "execution_count": 16,
   "id": "8cc5fefe",
   "metadata": {},
   "outputs": [
    {
     "name": "stdout",
     "output_type": "stream",
     "text": [
      "Enter a interger. 9\n"
     ]
    }
   ],
   "source": [
    "print('Enter a interger.', 9)"
   ]
  },
  {
   "cell_type": "code",
   "execution_count": 7,
   "id": "e68c6c44",
   "metadata": {},
   "outputs": [
    {
     "name": "stdout",
     "output_type": "stream",
     "text": [
      "The sum is 93.3\n"
     ]
    }
   ],
   "source": [
    "print('The sum is', 84.3 + 9)"
   ]
  },
  {
   "cell_type": "code",
   "execution_count": 8,
   "id": "a84af796",
   "metadata": {},
   "outputs": [
    {
     "name": "stdout",
     "output_type": "stream",
     "text": [
      "The difference is 75.3\n"
     ]
    }
   ],
   "source": [
    "print('The difference is', 84.3 - 9)"
   ]
  },
  {
   "cell_type": "code",
   "execution_count": 9,
   "id": "a35dcda4",
   "metadata": {},
   "outputs": [
    {
     "name": "stdout",
     "output_type": "stream",
     "text": [
      "The product is 758.6999999999999\n"
     ]
    }
   ],
   "source": [
    "print('The product is', 84.3 * 9)"
   ]
  },
  {
   "cell_type": "code",
   "execution_count": 10,
   "id": "a673bb62",
   "metadata": {},
   "outputs": [
    {
     "name": "stdout",
     "output_type": "stream",
     "text": [
      "The quotient is 9.366666666666667\n"
     ]
    }
   ],
   "source": [
    "print('The quotient is', 84.3 / 9)"
   ]
  },
  {
   "cell_type": "code",
   "execution_count": 11,
   "id": "4374a950",
   "metadata": {},
   "outputs": [
    {
     "data": {
      "text/plain": [
       "float"
      ]
     },
     "execution_count": 11,
     "metadata": {},
     "output_type": "execute_result"
    }
   ],
   "source": [
    "type(84.3)"
   ]
  },
  {
   "cell_type": "code",
   "execution_count": 12,
   "id": "bda0e152",
   "metadata": {},
   "outputs": [
    {
     "data": {
      "text/plain": [
       "int"
      ]
     },
     "execution_count": 12,
     "metadata": {},
     "output_type": "execute_result"
    }
   ],
   "source": [
    "type(9)"
   ]
  },
  {
   "cell_type": "code",
   "execution_count": null,
   "id": "01d8a008",
   "metadata": {},
   "outputs": [],
   "source": []
  }
 ],
 "metadata": {
  "kernelspec": {
   "display_name": "Python 3",
   "language": "python",
   "name": "python3"
  },
  "language_info": {
   "codemirror_mode": {
    "name": "ipython",
    "version": 3
   },
   "file_extension": ".py",
   "mimetype": "text/x-python",
   "name": "python",
   "nbconvert_exporter": "python",
   "pygments_lexer": "ipython3",
   "version": "3.8.8"
  }
 },
 "nbformat": 4,
 "nbformat_minor": 5
}
